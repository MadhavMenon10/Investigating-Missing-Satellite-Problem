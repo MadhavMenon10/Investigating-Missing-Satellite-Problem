{
 "cells": [
  {
   "cell_type": "markdown",
   "id": "dddb31f2",
   "metadata": {},
   "source": [
    "## Initialising functions for calculation"
   ]
  },
  {
   "cell_type": "code",
   "execution_count": 9,
   "id": "fe777644",
   "metadata": {},
   "outputs": [],
   "source": [
    "Omega_x_h2 = 0.120\n",
    "def calculate_g_dec(g_x):\n",
    "    Omega_x_h2_equalto = 115*g_x\n",
    "    g_dec = Omega_x_h2_equalto/0.120\n",
    "    return g_dec\n",
    "\n",
    "def calculate_rel_temp(g_dec_calculated):\n",
    "    return (10.75/g_dec_calculated)**(1/3)\n",
    "\n"
   ]
  },
  {
   "cell_type": "markdown",
   "id": "b3feedbf",
   "metadata": {},
   "source": [
    "## For g=3"
   ]
  },
  {
   "cell_type": "code",
   "execution_count": 6,
   "id": "0ad9d312",
   "metadata": {},
   "outputs": [
    {
     "name": "stdout",
     "output_type": "stream",
     "text": [
      "0.15521137218142642\n"
     ]
    }
   ],
   "source": [
    "g_dec_forg3 = calculate_g_dec(3)\n",
    "t_g2 = calculate_rel_temp(g_dec_forg3)\n",
    "print(t_g2)"
   ]
  },
  {
   "cell_type": "markdown",
   "id": "98240806",
   "metadata": {},
   "source": [
    "## For g=4.5"
   ]
  },
  {
   "cell_type": "code",
   "execution_count": 7,
   "id": "ae183120",
   "metadata": {},
   "outputs": [
    {
     "name": "stdout",
     "output_type": "stream",
     "text": [
      "0.13558962264260913\n"
     ]
    }
   ],
   "source": [
    "g_dec_for4point5 = calculate_g_dec(4.5)\n",
    "t_g4point5 = calculate_rel_temp(g_dec_for4point5)\n",
    "print(t_g4point5)"
   ]
  },
  {
   "cell_type": "markdown",
   "id": "efc7d3be",
   "metadata": {},
   "source": [
    "## For g=6"
   ]
  },
  {
   "cell_type": "code",
   "execution_count": 8,
   "id": "22fbe55f",
   "metadata": {},
   "outputs": [
    {
     "name": "stdout",
     "output_type": "stream",
     "text": [
      "0.12319134773911201\n"
     ]
    }
   ],
   "source": [
    "g_dec_for6 = calculate_g_dec(6)\n",
    "t_g6 = calculate_rel_temp(g_dec_for6)\n",
    "print(t_g6)"
   ]
  }
 ],
 "metadata": {
  "kernelspec": {
   "display_name": "Python 3.9.5 64-bit",
   "language": "python",
   "name": "python395jvsc74a57bd0aee8b7b246df8f9039afb4144a1f6fd8d2ca17a180786b69acc140d282b71a49"
  },
  "language_info": {
   "codemirror_mode": {
    "name": "ipython",
    "version": 3
   },
   "file_extension": ".py",
   "mimetype": "text/x-python",
   "name": "python",
   "nbconvert_exporter": "python",
   "pygments_lexer": "ipython3",
   "version": "3.9.5"
  }
 },
 "nbformat": 4,
 "nbformat_minor": 5
}
