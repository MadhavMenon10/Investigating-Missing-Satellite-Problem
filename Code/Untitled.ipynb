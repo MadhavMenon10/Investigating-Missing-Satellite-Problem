{
 "cells": [
  {
   "cell_type": "code",
   "execution_count": 4,
   "id": "f938e01c",
   "metadata": {},
   "outputs": [],
   "source": [
    "import numpy as np\n",
    "import matplotlib.pyplot as plt\n",
    "import pandas as pd"
   ]
  },
  {
   "cell_type": "code",
   "execution_count": 5,
   "id": "964e29d7",
   "metadata": {},
   "outputs": [],
   "source": [
    "data_wdm = np.loadtxt(\"wdm(neutrino)_2022stdnu01_pk.dat\")\n",
    "df = pd.DataFrame(data_wdm)\n",
    "k = np.array(list(df[0]))\n",
    "g = np.array([1.5, 3, 4.5, 6.0])\n",
    "x, y = np.meshgrid(k, g)\n",
    "x[x==0]=10**-5\n",
    "y[y==0]=10**-5\n",
    "z = np.zeros(x)\n",
    "z[0,:] = transfer"
   ]
  },
  {
   "cell_type": "code",
   "execution_count": null,
   "id": "ebfcf0ab",
   "metadata": {},
   "outputs": [],
   "source": []
  }
 ],
 "metadata": {
  "kernelspec": {
   "display_name": "Python 3.9.5 64-bit",
   "language": "python",
   "name": "python395jvsc74a57bd0aee8b7b246df8f9039afb4144a1f6fd8d2ca17a180786b69acc140d282b71a49"
  },
  "language_info": {
   "codemirror_mode": {
    "name": "ipython",
    "version": 3
   },
   "file_extension": ".py",
   "mimetype": "text/x-python",
   "name": "python",
   "nbconvert_exporter": "python",
   "pygments_lexer": "ipython3",
   "version": "3.9.5"
  }
 },
 "nbformat": 4,
 "nbformat_minor": 5
}
